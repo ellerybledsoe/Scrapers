{
 "cells": [
  {
   "cell_type": "code",
   "execution_count": 25,
   "metadata": {},
   "outputs": [],
   "source": [
    "import pandas as pd\n",
    "import requests\n",
    "from bs4 import BeautifulSoup\n",
    "from selenium.webdriver.common.by import By \n",
    "from selenium.webdriver.support.ui import WebDriverWait \n",
    "from selenium.webdriver.support import expected_conditions as EC\n",
    "import numpy as np\n",
    "import time\n",
    "import datetime\n",
    "import re\n",
    "from selenium import webdriver\n",
    "import random\n",
    "import math\n",
    "from time import sleep"
   ]
  },
  {
   "cell_type": "code",
   "execution_count": 20,
   "metadata": {},
   "outputs": [],
   "source": [
    "selenium_loop_URLs = pd.read_csv('wunderground_URLs.csv', encoding = 'utf-8')['selenium_city_matchdate_URL']"
   ]
  },
  {
   "cell_type": "code",
   "execution_count": 21,
   "metadata": {},
   "outputs": [
    {
     "data": {
      "text/plain": [
       "0       https://www.wunderground.com/history/daily/de/...\n",
       "1       https://www.wunderground.com/history/daily/de/...\n",
       "2       https://www.wunderground.com/history/daily/de/...\n",
       "3       https://www.wunderground.com/history/daily/de/...\n",
       "4       https://www.wunderground.com/history/daily/de/...\n",
       "                              ...                        \n",
       "3469    https://www.wunderground.com/history/daily/de/...\n",
       "3470    https://www.wunderground.com/history/daily/de/...\n",
       "3471    https://www.wunderground.com/history/daily/de/...\n",
       "3472    https://www.wunderground.com/history/daily/de/...\n",
       "3473    https://www.wunderground.com/history/daily/de/...\n",
       "Name: selenium_city_matchdate_URL, Length: 3474, dtype: object"
      ]
     },
     "execution_count": 21,
     "metadata": {},
     "output_type": "execute_result"
    }
   ],
   "source": [
    "selenium_loop_URLs"
   ]
  },
  {
   "cell_type": "code",
   "execution_count": 10,
   "metadata": {},
   "outputs": [],
   "source": [
    "driver = webdriver.Chrome('/Users/ebled1/Downloads/chromedriver 4')\n",
    "#driver.get('https://www.wunderground.com/history/daily/gb/manchester/EGCC/date/2020-7-20')\n",
    "#driver.quit()"
   ]
  },
  {
   "cell_type": "code",
   "execution_count": 28,
   "metadata": {},
   "outputs": [
    {
     "name": "stdout",
     "output_type": "stream",
     "text": [
      "========================\n",
      "1 :  https://www.wunderground.com/history/daily/de/oberding/EDDM/date/2017-08-18\n",
      "headers:  {'User-Agent': 'Mozilla/5.0 (Macintosh; Intel Mac OS X 10_15_5) AppleWebKit/605.1.15 (KHTML, like Gecko) Version/13.1.1 Safari/605.1.15'}\n",
      "elapsed time:  11.859395027160645\n",
      "csv count:  0\n",
      "========================\n",
      "weather_time_rows_loop1 shape:  (0, 2)\n",
      "weather_time_rows_loop2 shape:  (0, 2)\n",
      "sleep time:  9.463737811865474  seconds\n",
      "iteration time:  21.50943899154663\n",
      "========================\n",
      "2 :  https://www.wunderground.com/history/daily/de/oberding/EDDM/date/2017-09-16\n",
      "headers:  {'User-Agent': 'Mozilla/5.0 (Macintosh; Intel Mac OS X 10.15; rv:77.0) Gecko/20100101 Firefox/77.0'}\n",
      "elapsed time:  28.70295023918152\n",
      "csv count:  0\n",
      "========================\n",
      "weather_time_rows_loop1 shape:  (48, 2)\n",
      "weather_time_rows_loop2 shape:  (48, 2)\n",
      "sleep time:  5.928203905932738  seconds\n",
      "iteration time:  16.81529688835144\n",
      "========================\n",
      "3 :  https://www.wunderground.com/history/daily/de/oberding/EDDM/date/2017-09-22\n",
      "headers:  {'User-Agent': 'Mozilla/5.0 (Macintosh; Intel Mac OS X 10.15; rv:77.0) Gecko/20100101 Firefox/77.0'}\n",
      "elapsed time:  49.58781123161316\n",
      "csv count:  0\n",
      "========================\n",
      "weather_time_rows_loop1 shape:  (0, 2)\n",
      "weather_time_rows_loop2 shape:  (48, 2)\n",
      "sleep time:  4.749692603955158  seconds\n"
     ]
    },
    {
     "ename": "KeyboardInterrupt",
     "evalue": "",
     "output_type": "error",
     "traceback": [
      "\u001b[0;31m---------------------------------------------------------------------------\u001b[0m",
      "\u001b[0;31mKeyboardInterrupt\u001b[0m                         Traceback (most recent call last)",
      "\u001b[0;32m<ipython-input-28-7a166769c4be>\u001b[0m in \u001b[0;36m<module>\u001b[0;34m()\u001b[0m\n\u001b[1;32m     74\u001b[0m     \u001b[0ms\u001b[0m \u001b[0;34m=\u001b[0m \u001b[0;34m(\u001b[0m\u001b[0mmath\u001b[0m\u001b[0;34m.\u001b[0m\u001b[0msqrt\u001b[0m\u001b[0;34m(\u001b[0m\u001b[0;36m2\u001b[0m\u001b[0;34m)\u001b[0m\u001b[0;34m*\u001b[0m \u001b[0;34m(\u001b[0m\u001b[0;36m5\u001b[0m\u001b[0;34m/\u001b[0m\u001b[0;34m(\u001b[0m\u001b[0mi\u001b[0m\u001b[0;34m+\u001b[0m\u001b[0;36m1\u001b[0m\u001b[0;34m)\u001b[0m\u001b[0;34m)\u001b[0m\u001b[0;34m)\u001b[0m \u001b[0;34m+\u001b[0m \u001b[0;36m2.39267\u001b[0m\u001b[0;34m\u001b[0m\u001b[0m\n\u001b[1;32m     75\u001b[0m     \u001b[0mprint\u001b[0m\u001b[0;34m(\u001b[0m\u001b[0;34m'sleep time: '\u001b[0m\u001b[0;34m,\u001b[0m \u001b[0ms\u001b[0m\u001b[0;34m,\u001b[0m \u001b[0;34m' seconds'\u001b[0m\u001b[0;34m)\u001b[0m\u001b[0;34m\u001b[0m\u001b[0m\n\u001b[0;32m---> 76\u001b[0;31m     \u001b[0msleep\u001b[0m\u001b[0;34m(\u001b[0m\u001b[0ms\u001b[0m\u001b[0;34m)\u001b[0m    \u001b[0;31m#in seconds\u001b[0m\u001b[0;34m\u001b[0m\u001b[0m\n\u001b[0m\u001b[1;32m     77\u001b[0m     \u001b[0mtimes_count\u001b[0m \u001b[0;34m+=\u001b[0m\u001b[0;36m1\u001b[0m\u001b[0;34m\u001b[0m\u001b[0m\n\u001b[1;32m     78\u001b[0m     \u001b[0mprint\u001b[0m\u001b[0;34m(\u001b[0m\u001b[0;34m'iteration time: '\u001b[0m\u001b[0;34m,\u001b[0m\u001b[0mtime\u001b[0m\u001b[0;34m.\u001b[0m\u001b[0mtime\u001b[0m\u001b[0;34m(\u001b[0m\u001b[0;34m)\u001b[0m \u001b[0;34m-\u001b[0m \u001b[0mloop_start_time\u001b[0m\u001b[0;34m)\u001b[0m\u001b[0;34m\u001b[0m\u001b[0m\n",
      "\u001b[0;31mKeyboardInterrupt\u001b[0m: "
     ]
    }
   ],
   "source": [
    "driver = webdriver.Chrome('/Users/ebled1/Downloads/chromedriver 4')\n",
    "\n",
    "weather_time_rows_loop2 = pd.DataFrame() \n",
    "times_count = 1\n",
    "times_csv_count = 0\n",
    "start_time = time.time()\n",
    "\n",
    "user_agent_list = [\n",
    "    'Mozilla/5.0 (Macintosh; Intel Mac OS X 10_15_5) AppleWebKit/605.1.15 (KHTML, like Gecko) Version/13.1.1 Safari/605.1.15',\n",
    "    #'Mozilla/5.0 (Windows NT 10.0; Win64; x64; rv:77.0) Gecko/20100101 Firefox/77.0',\n",
    "    'Mozilla/5.0 (Macintosh; Intel Mac OS X 10_15_5) AppleWebKit/537.36 (KHTML, like Gecko) Chrome/83.0.4103.97 Safari/537.36',\n",
    "    'Mozilla/5.0 (Macintosh; Intel Mac OS X 10.15; rv:77.0) Gecko/20100101 Firefox/77.0',\n",
    "    #'Mozilla/5.0 (Windows NT 10.0; Win64; x64) AppleWebKit/537.36 (KHTML, like Gecko) Chrome/83.0.4103.97 Safari/537.36',\n",
    "]\n",
    "url_bin = 'https://httpbin.org/headers'\n",
    "\n",
    "\n",
    "for i in range(0,len(selenium_loop_URLs)):    \n",
    "    loop_start_time = time.time()\n",
    "    \n",
    "    \n",
    "    for j in range(0,3):\n",
    "        #Pick a random user agent\n",
    "        user_agent = random.choice(user_agent_list)\n",
    "        #Set the headers \n",
    "        headers = {'User-Agent': user_agent}\n",
    "    \n",
    "    page = selenium_loop_URLs[i]\n",
    "    \n",
    "    driver.get(page)\n",
    "        \n",
    "    print('========================')\n",
    "    #print(count,': ',URL)\n",
    "    print(times_count,': ',page)\n",
    "    print('headers: ', headers)\n",
    "    print('elapsed time: ',time.time() - start_time)\n",
    "    print('csv count: ', times_csv_count)\n",
    "    #print(\"num of unruly URLs: \", len(unruly_record))\n",
    "    print('========================')\n",
    "        \n",
    "    element = WebDriverWait(driver, 10).until( \n",
    "    EC.presence_of_element_located((By.CLASS_NAME, \"ng-star-inserted\")) ) \n",
    "    #print('POST-ELEMENT CONDITION')\n",
    "    #print(element is None)\n",
    "        \n",
    "    if element is not None: \n",
    "        #print('GETTING DATA')\n",
    "        weatherdata_loop = driver.find_elements_by_class_name('ng-star-inserted')[0].text\n",
    "        weatherdata_df_loop = pd.DataFrame(weatherdata_loop.splitlines())\n",
    "        weather_time_rows_loop = weatherdata_df_loop[weatherdata_df_loop[0].str.contains(\" mph\")]\n",
    "        weather_time_rows_loop1 = weather_time_rows_loop[0].str.split('M ').str[0]\n",
    "        \n",
    "    \n",
    "        #print('weather_time_rows_loop1 shape: ',weather_time_rows_loop1.shape)\n",
    "        weather_time_rows_loop1_df = pd.DataFrame(weather_time_rows_loop1)\n",
    "        weather_time_rows_loop1_df['selenium_loop_URL'] = page\n",
    "        print('weather_time_rows_loop1 shape: ',weather_time_rows_loop1_df.shape)\n",
    "       \n",
    "    \n",
    "\n",
    "        weather_time_rows_loop2 = pd.concat([weather_time_rows_loop2,weather_time_rows_loop1_df])\n",
    "        print('weather_time_rows_loop2 shape: ', weather_time_rows_loop2.shape)\n",
    "        \n",
    "        \n",
    "        if times_count%150 == 0:\n",
    "            timestr = time.strftime(\"%Y%m%d-%H%M%S\")\n",
    "            rows = str(times_count)\n",
    "            weather_time_rows_loop2.to_csv('weather_times_'+ rows + '_' + timestr + '.csv' , encoding='utf-8', index=False) \n",
    "            times_csv_count +=1\n",
    "    \n",
    "    # adding delay            \n",
    "    s = (math.sqrt(2)* (5/(i+1))) + 2.39267\n",
    "    print('sleep time: ', s, ' seconds')\n",
    "    sleep(s)    #in seconds\n",
    "    times_count +=1\n",
    "    print('iteration time: ',time.time() - loop_start_time)\n",
    "\n",
    "\n",
    "            \n",
    "print(\"--- %s seconds ---\" % (time.time() - start_time))\n",
    "driver.quit()"
   ]
  },
  {
   "cell_type": "code",
   "execution_count": null,
   "metadata": {},
   "outputs": [],
   "source": []
  }
 ],
 "metadata": {
  "kernelspec": {
   "display_name": "Python 3",
   "language": "python",
   "name": "python3"
  },
  "language_info": {
   "codemirror_mode": {
    "name": "ipython",
    "version": 3
   },
   "file_extension": ".py",
   "mimetype": "text/x-python",
   "name": "python",
   "nbconvert_exporter": "python",
   "pygments_lexer": "ipython3",
   "version": "3.8.5"
  }
 },
 "nbformat": 4,
 "nbformat_minor": 2
}
